{
 "cells": [
  {
   "cell_type": "code",
   "execution_count": 1,
   "id": "576b64a8",
   "metadata": {},
   "outputs": [],
   "source": [
    "# import dependencies\n",
    "from bs4 import BeautifulSoup\n",
    "import requests\n",
    "import re\n",
    "import timeit\n",
    "import pandas as pd"
   ]
  },
  {
   "cell_type": "code",
   "execution_count": 2,
   "id": "e8380324",
   "metadata": {},
   "outputs": [],
   "source": [
    "# url to the matches tab\n",
    "url = 'https://www.vlr.gg/event/matches/2004/champions-tour-2024-americas-stage-1/?series_id=3836'"
   ]
  },
  {
   "cell_type": "code",
   "execution_count": 3,
   "id": "33f80f9b",
   "metadata": {},
   "outputs": [
    {
     "name": "stdout",
     "output_type": "stream",
     "text": [
      "Beginning URL Retrieval\n",
      "------------------------\n",
      "------------------------\n",
      "Found 25 games!\n",
      "\n"
     ]
    }
   ],
   "source": [
    "# scrape all the urls from the matches tab\n",
    "print('Beginning URL Retrieval')\n",
    "print('------------------------')\n",
    "\n",
    "# get the html file using request\n",
    "html_txt = requests.get(url)\n",
    "soup = BeautifulSoup(html_txt.text, 'lxml')\n",
    "\n",
    "try:\n",
    "    # map to the correct location in the html file\n",
    "    body = soup.find('body')\n",
    "    div_container = body.find('div', class_='col-container')\n",
    "    div_card = div_container.find_all('div', class_='wf-card')\n",
    "    url_list = []\n",
    "    perf_list = []\n",
    "    over_list = []\n",
    "\n",
    "    for idx, x in enumerate(div_card):\n",
    "        if idx != 0:\n",
    "            # create a base_url\n",
    "            base_link = []\n",
    "            base_url = f'https://www.vlr.gg'\n",
    "            for link in div_card[idx].find_all('a'):\n",
    "                base_link.append(link.get('href'))\n",
    "\n",
    "            # fill the df with base urls\n",
    "            for url in base_link:\n",
    "                url_list.append(f'{base_url}{url}')\n",
    "                \n",
    "            # fill the df with the urls + /?game=all&tab=performance \n",
    "            # brings you to the performance tab \n",
    "            for url in base_link:\n",
    "                perf_list.append(f'{base_url}{url}{\"/?game=all&tab=performance\"}')\n",
    "                \n",
    "            # fill the df with the urls + /?game=all&tab=overview \n",
    "            # brings you to the overview tab\n",
    "            for url in base_link:\n",
    "                over_list.append(f'{base_url}{url}{\"/?game=all&tab=overview\"}')\n",
    "\n",
    "except AttributeError:\n",
    "        print('There was a missing URL')\n",
    "\n",
    "print('------------------------')\n",
    "print(f'Found {len(url_list)} games!\\n')"
   ]
  },
  {
   "cell_type": "code",
   "execution_count": 4,
   "id": "f0267683",
   "metadata": {},
   "outputs": [
    {
     "data": {
      "text/plain": [
       "25"
      ]
     },
     "execution_count": 4,
     "metadata": {},
     "output_type": "execute_result"
    }
   ],
   "source": [
    "# print the perf_list\n",
    "len(perf_list)"
   ]
  },
  {
   "cell_type": "code",
   "execution_count": 5,
   "id": "805250ac",
   "metadata": {},
   "outputs": [
    {
     "data": {
      "text/plain": [
       "25"
      ]
     },
     "execution_count": 5,
     "metadata": {},
     "output_type": "execute_result"
    }
   ],
   "source": [
    "# print the over_list\n",
    "len(over_list)"
   ]
  },
  {
   "cell_type": "code",
   "execution_count": 6,
   "id": "65930e8b",
   "metadata": {},
   "outputs": [
    {
     "data": {
      "text/plain": [
       "25"
      ]
     },
     "execution_count": 6,
     "metadata": {},
     "output_type": "execute_result"
    }
   ],
   "source": [
    "# print the url_list\n",
    "len(url_list)"
   ]
  },
  {
   "cell_type": "code",
   "execution_count": 7,
   "id": "655db6d7",
   "metadata": {},
   "outputs": [
    {
     "name": "stdout",
     "output_type": "stream",
     "text": [
      "List of links saved to over_list.txt\n",
      "List of links saved to perf_list.txt\n",
      "List of links saved to url_list.txt\n"
     ]
    }
   ],
   "source": [
    "# Save the list to a file\n",
    "with open('../Data/over_list.txt', 'w') as file:\n",
    "    for link in over_list:\n",
    "        file.write(link + '\\n')\n",
    "\n",
    "print(\"List of links saved to over_list.txt\")\n",
    "\n",
    "# Save the list to a file\n",
    "with open('../Data/perf_list.txt', 'w') as file:\n",
    "    for link in perf_list:\n",
    "        file.write(link + '\\n')\n",
    "\n",
    "print(\"List of links saved to perf_list.txt\")\n",
    "\n",
    "# Save the list to a file\n",
    "with open('../Data/url_list.txt', 'w') as file:\n",
    "    for link in url_list:\n",
    "        file.write(link + '\\n')\n",
    "\n",
    "print(\"List of links saved to url_list.txt\")"
   ]
  },
  {
   "cell_type": "code",
   "execution_count": null,
   "id": "0ef06f7c",
   "metadata": {},
   "outputs": [],
   "source": []
  }
 ],
 "metadata": {
  "kernelspec": {
   "display_name": "Python 3 (ipykernel)",
   "language": "python",
   "name": "python3"
  },
  "language_info": {
   "codemirror_mode": {
    "name": "ipython",
    "version": 3
   },
   "file_extension": ".py",
   "mimetype": "text/x-python",
   "name": "python",
   "nbconvert_exporter": "python",
   "pygments_lexer": "ipython3",
   "version": "3.9.13"
  }
 },
 "nbformat": 4,
 "nbformat_minor": 5
}
