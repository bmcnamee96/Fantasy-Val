{
 "cells": [
  {
   "cell_type": "code",
   "execution_count": 1,
   "id": "577688f9",
   "metadata": {},
   "outputs": [],
   "source": [
    "# import dependencies\n",
    "from bs4 import BeautifulSoup\n",
    "import requests\n",
    "import re\n",
    "import timeit\n",
    "import pandas as pd"
   ]
  },
  {
   "cell_type": "code",
   "execution_count": 2,
   "id": "f467ef43",
   "metadata": {},
   "outputs": [
    {
     "name": "stdout",
     "output_type": "stream",
     "text": [
      "name_map.csv uploaded\n"
     ]
    }
   ],
   "source": [
    "# Load the CSV file into a DataFrame\n",
    "file_path = 'name_map.csv'\n",
    "names_df = pd.read_csv(file_path)\n",
    "print(f'{file_path} uploaded')"
   ]
  },
  {
   "cell_type": "code",
   "execution_count": 3,
   "id": "09fad8b4",
   "metadata": {},
   "outputs": [],
   "source": [
    "names_final = names_df['player_name'].unique()"
   ]
  },
  {
   "cell_type": "code",
   "execution_count": 8,
   "id": "57906c4b",
   "metadata": {},
   "outputs": [],
   "source": [
    "# Sort the array alphabetically\n",
    "# case-insensitive\n",
    "sorted_names_final = sorted(names_final, key=str.lower)"
   ]
  },
  {
   "cell_type": "code",
   "execution_count": 10,
   "id": "18b08a11",
   "metadata": {},
   "outputs": [
    {
     "name": "stdout",
     "output_type": "stream",
     "text": [
      "List of links saved to over_list.txt\n"
     ]
    }
   ],
   "source": [
    "# Save the list to a file\n",
    "with open('name_list.txt', 'w') as file:\n",
    "    for name in sorted_names_final:\n",
    "        file.write(name + '\\n')\n",
    "\n",
    "print(\"List of links saved to over_list.txt\")"
   ]
  },
  {
   "cell_type": "code",
   "execution_count": null,
   "id": "5c3ca5d7",
   "metadata": {},
   "outputs": [],
   "source": []
  }
 ],
 "metadata": {
  "kernelspec": {
   "display_name": "Python 3 (ipykernel)",
   "language": "python",
   "name": "python3"
  },
  "language_info": {
   "codemirror_mode": {
    "name": "ipython",
    "version": 3
   },
   "file_extension": ".py",
   "mimetype": "text/x-python",
   "name": "python",
   "nbconvert_exporter": "python",
   "pygments_lexer": "ipython3",
   "version": "3.9.13"
  }
 },
 "nbformat": 4,
 "nbformat_minor": 5
}
