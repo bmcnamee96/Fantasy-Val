{
 "cells": [
  {
   "cell_type": "code",
   "execution_count": 1,
   "id": "576b64a8",
   "metadata": {},
   "outputs": [],
   "source": [
    "# import dependencies\n",
    "from bs4 import BeautifulSoup\n",
    "import requests\n",
    "import re\n",
    "import timeit\n",
    "import pandas as pd"
   ]
  },
  {
   "cell_type": "code",
   "execution_count": 2,
   "id": "e8380324",
   "metadata": {},
   "outputs": [],
   "source": [
    "# url to the matches tab\n",
    "url = 'https://www.vlr.gg/event/matches/2095/champions-tour-2024-americas-stage-2/?series_id=4031'"
   ]
  },
  {
   "cell_type": "code",
   "execution_count": 3,
   "id": "33f80f9b",
   "metadata": {},
   "outputs": [
    {
     "name": "stdout",
     "output_type": "stream",
     "text": [
      "Beginning URL Retrieval\n",
      "------------------------\n",
      "------------------------\n",
      "Found 25 games!\n",
      "\n"
     ]
    }
   ],
   "source": [
    "# scrape all the urls from the matches tab\n",
    "print('Beginning URL Retrieval')\n",
    "print('------------------------')\n",
    "\n",
    "# get the html file using request\n",
    "html_txt = requests.get(url)\n",
    "soup = BeautifulSoup(html_txt.text, 'lxml')\n",
    "\n",
    "try:\n",
    "    # map to the correct location in the html file\n",
    "    body = soup.find('body')\n",
    "    div_container = body.find('div', class_='col-container')\n",
    "    div_card = div_container.find_all('div', class_='wf-card')\n",
    "    url_list = []\n",
    "    perf_list = []\n",
    "    over_list = []\n",
    "\n",
    "    for idx, x in enumerate(div_card):\n",
    "        if idx != 0:\n",
    "            # create a base_url\n",
    "            base_link = []\n",
    "            base_url = f'https://www.vlr.gg'\n",
    "            for link in div_card[idx].find_all('a'):\n",
    "                base_link.append(link.get('href'))\n",
    "\n",
    "            # fill the df with base urls\n",
    "            for url in base_link:\n",
    "                url_list.append(f'{base_url}{url}')\n",
    "                \n",
    "            # fill the df with the urls + /?game=all&tab=performance \n",
    "            # brings you to the performance tab \n",
    "            for url in base_link:\n",
    "                perf_list.append(f'{base_url}{url}{\"/?game=all&tab=performance\"}')\n",
    "                \n",
    "            # fill the df with the urls + /?game=all&tab=overview \n",
    "            # brings you to the overview tab\n",
    "            for url in base_link:\n",
    "                over_list.append(f'{base_url}{url}{\"/?game=all&tab=overview\"}')\n",
    "\n",
    "except AttributeError:\n",
    "        print('There was a missing URL')\n",
    "\n",
    "print('------------------------')\n",
    "print(f'Found {len(url_list)} games!\\n')"
   ]
  },
  {
   "cell_type": "code",
   "execution_count": 4,
   "id": "f0267683",
   "metadata": {},
   "outputs": [
    {
     "data": {
      "text/plain": [
       "['https://www.vlr.gg/353177/mibr-vs-leviat-n-champions-tour-2024-americas-stage-2-w1/?game=all&tab=performance',\n",
       " 'https://www.vlr.gg/353178/sentinels-vs-nrg-esports-champions-tour-2024-americas-stage-2-w1/?game=all&tab=performance',\n",
       " 'https://www.vlr.gg/353179/furia-vs-100-thieves-champions-tour-2024-americas-stage-2-w1/?game=all&tab=performance',\n",
       " 'https://www.vlr.gg/353180/loud-vs-evil-geniuses-champions-tour-2024-americas-stage-2-w1/?game=all&tab=performance',\n",
       " 'https://www.vlr.gg/353181/g2-esports-vs-cloud9-champions-tour-2024-americas-stage-2-w1/?game=all&tab=performance',\n",
       " 'https://www.vlr.gg/353182/evil-geniuses-vs-furia-champions-tour-2024-americas-stage-2-w2/?game=all&tab=performance',\n",
       " 'https://www.vlr.gg/353183/sentinels-vs-kr-esports-champions-tour-2024-americas-stage-2-w2/?game=all&tab=performance',\n",
       " 'https://www.vlr.gg/353184/loud-vs-mibr-champions-tour-2024-americas-stage-2-w2/?game=all&tab=performance',\n",
       " 'https://www.vlr.gg/353185/leviat-n-vs-100-thieves-champions-tour-2024-americas-stage-2-w2/?game=all&tab=performance',\n",
       " 'https://www.vlr.gg/353186/nrg-esports-vs-g2-esports-champions-tour-2024-americas-stage-2-w2/?game=all&tab=performance',\n",
       " 'https://www.vlr.gg/353187/sentinels-vs-cloud9-champions-tour-2024-americas-stage-2-w2/?game=all&tab=performance',\n",
       " 'https://www.vlr.gg/353188/evil-geniuses-vs-leviat-n-champions-tour-2024-americas-stage-2-w2/?game=all&tab=performance',\n",
       " 'https://www.vlr.gg/353189/loud-vs-furia-champions-tour-2024-americas-stage-2-w2/?game=all&tab=performance',\n",
       " 'https://www.vlr.gg/353190/mibr-vs-100-thieves-champions-tour-2024-americas-stage-2-w2/?game=all&tab=performance',\n",
       " 'https://www.vlr.gg/353191/nrg-esports-vs-kr-esports-champions-tour-2024-americas-stage-2-w2/?game=all&tab=performance',\n",
       " 'https://www.vlr.gg/353192/g2-esports-vs-kr-esports-champions-tour-2024-americas-stage-2-w3/?game=all&tab=performance',\n",
       " 'https://www.vlr.gg/353193/loud-vs-leviat-n-champions-tour-2024-americas-stage-2-w3/?game=all&tab=performance',\n",
       " 'https://www.vlr.gg/353194/mibr-vs-furia-champions-tour-2024-americas-stage-2-w3/?game=all&tab=performance',\n",
       " 'https://www.vlr.gg/353195/nrg-esports-vs-cloud9-champions-tour-2024-americas-stage-2-w3/?game=all&tab=performance',\n",
       " 'https://www.vlr.gg/353196/evil-geniuses-vs-100-thieves-champions-tour-2024-americas-stage-2-w3/?game=all&tab=performance',\n",
       " 'https://www.vlr.gg/353197/cloud9-vs-kr-esports-champions-tour-2024-americas-stage-2-w4/?game=all&tab=performance',\n",
       " 'https://www.vlr.gg/353198/evil-geniuses-vs-mibr-champions-tour-2024-americas-stage-2-w4/?game=all&tab=performance',\n",
       " 'https://www.vlr.gg/353199/leviat-n-vs-furia-champions-tour-2024-americas-stage-2-w4/?game=all&tab=performance',\n",
       " 'https://www.vlr.gg/353200/loud-vs-100-thieves-champions-tour-2024-americas-stage-2-w4/?game=all&tab=performance',\n",
       " 'https://www.vlr.gg/353201/sentinels-vs-g2-esports-champions-tour-2024-americas-stage-2-w4/?game=all&tab=performance']"
      ]
     },
     "execution_count": 4,
     "metadata": {},
     "output_type": "execute_result"
    }
   ],
   "source": [
    "# print the perf_list\n",
    "perf_list\n",
    "\n",
    "## copy this into the performance scraper as the url_list"
   ]
  },
  {
   "cell_type": "code",
   "execution_count": 5,
   "id": "805250ac",
   "metadata": {},
   "outputs": [
    {
     "data": {
      "text/plain": [
       "['https://www.vlr.gg/353177/mibr-vs-leviat-n-champions-tour-2024-americas-stage-2-w1/?game=all&tab=overview',\n",
       " 'https://www.vlr.gg/353178/sentinels-vs-nrg-esports-champions-tour-2024-americas-stage-2-w1/?game=all&tab=overview',\n",
       " 'https://www.vlr.gg/353179/furia-vs-100-thieves-champions-tour-2024-americas-stage-2-w1/?game=all&tab=overview',\n",
       " 'https://www.vlr.gg/353180/loud-vs-evil-geniuses-champions-tour-2024-americas-stage-2-w1/?game=all&tab=overview',\n",
       " 'https://www.vlr.gg/353181/g2-esports-vs-cloud9-champions-tour-2024-americas-stage-2-w1/?game=all&tab=overview',\n",
       " 'https://www.vlr.gg/353182/evil-geniuses-vs-furia-champions-tour-2024-americas-stage-2-w2/?game=all&tab=overview',\n",
       " 'https://www.vlr.gg/353183/sentinels-vs-kr-esports-champions-tour-2024-americas-stage-2-w2/?game=all&tab=overview',\n",
       " 'https://www.vlr.gg/353184/loud-vs-mibr-champions-tour-2024-americas-stage-2-w2/?game=all&tab=overview',\n",
       " 'https://www.vlr.gg/353185/leviat-n-vs-100-thieves-champions-tour-2024-americas-stage-2-w2/?game=all&tab=overview',\n",
       " 'https://www.vlr.gg/353186/nrg-esports-vs-g2-esports-champions-tour-2024-americas-stage-2-w2/?game=all&tab=overview',\n",
       " 'https://www.vlr.gg/353187/sentinels-vs-cloud9-champions-tour-2024-americas-stage-2-w2/?game=all&tab=overview',\n",
       " 'https://www.vlr.gg/353188/evil-geniuses-vs-leviat-n-champions-tour-2024-americas-stage-2-w2/?game=all&tab=overview',\n",
       " 'https://www.vlr.gg/353189/loud-vs-furia-champions-tour-2024-americas-stage-2-w2/?game=all&tab=overview',\n",
       " 'https://www.vlr.gg/353190/mibr-vs-100-thieves-champions-tour-2024-americas-stage-2-w2/?game=all&tab=overview',\n",
       " 'https://www.vlr.gg/353191/nrg-esports-vs-kr-esports-champions-tour-2024-americas-stage-2-w2/?game=all&tab=overview',\n",
       " 'https://www.vlr.gg/353192/g2-esports-vs-kr-esports-champions-tour-2024-americas-stage-2-w3/?game=all&tab=overview',\n",
       " 'https://www.vlr.gg/353193/loud-vs-leviat-n-champions-tour-2024-americas-stage-2-w3/?game=all&tab=overview',\n",
       " 'https://www.vlr.gg/353194/mibr-vs-furia-champions-tour-2024-americas-stage-2-w3/?game=all&tab=overview',\n",
       " 'https://www.vlr.gg/353195/nrg-esports-vs-cloud9-champions-tour-2024-americas-stage-2-w3/?game=all&tab=overview',\n",
       " 'https://www.vlr.gg/353196/evil-geniuses-vs-100-thieves-champions-tour-2024-americas-stage-2-w3/?game=all&tab=overview',\n",
       " 'https://www.vlr.gg/353197/cloud9-vs-kr-esports-champions-tour-2024-americas-stage-2-w4/?game=all&tab=overview',\n",
       " 'https://www.vlr.gg/353198/evil-geniuses-vs-mibr-champions-tour-2024-americas-stage-2-w4/?game=all&tab=overview',\n",
       " 'https://www.vlr.gg/353199/leviat-n-vs-furia-champions-tour-2024-americas-stage-2-w4/?game=all&tab=overview',\n",
       " 'https://www.vlr.gg/353200/loud-vs-100-thieves-champions-tour-2024-americas-stage-2-w4/?game=all&tab=overview',\n",
       " 'https://www.vlr.gg/353201/sentinels-vs-g2-esports-champions-tour-2024-americas-stage-2-w4/?game=all&tab=overview']"
      ]
     },
     "execution_count": 5,
     "metadata": {},
     "output_type": "execute_result"
    }
   ],
   "source": [
    "# print the over_list\n",
    "over_list\n",
    "\n",
    "## copy this into the overview scraper as the url_list"
   ]
  },
  {
   "cell_type": "code",
   "execution_count": 9,
   "id": "655db6d7",
   "metadata": {},
   "outputs": [
    {
     "name": "stdout",
     "output_type": "stream",
     "text": [
      "List of links saved to over_list.txt\n"
     ]
    }
   ],
   "source": [
    "# Save the list to a file\n",
    "with open('over_list.txt', 'w') as file:\n",
    "    for link in over_list:\n",
    "        file.write(link + '\\n')\n",
    "\n",
    "print(\"List of links saved to over_list.txt\")"
   ]
  },
  {
   "cell_type": "code",
   "execution_count": 11,
   "id": "c57798b9",
   "metadata": {},
   "outputs": [
    {
     "name": "stdout",
     "output_type": "stream",
     "text": [
      "List of links saved to perf_list.txt\n"
     ]
    }
   ],
   "source": [
    "# Save the list to a file\n",
    "with open('perf_list.txt', 'w') as file:\n",
    "    for link in perf_list:\n",
    "        file.write(link + '\\n')\n",
    "\n",
    "print(\"List of links saved to perf_list.txt\")"
   ]
  },
  {
   "cell_type": "code",
   "execution_count": null,
   "id": "0ef06f7c",
   "metadata": {},
   "outputs": [],
   "source": []
  }
 ],
 "metadata": {
  "kernelspec": {
   "display_name": "Python 3 (ipykernel)",
   "language": "python",
   "name": "python3"
  },
  "language_info": {
   "codemirror_mode": {
    "name": "ipython",
    "version": 3
   },
   "file_extension": ".py",
   "mimetype": "text/x-python",
   "name": "python",
   "nbconvert_exporter": "python",
   "pygments_lexer": "ipython3",
   "version": "3.9.13"
  }
 },
 "nbformat": 4,
 "nbformat_minor": 5
}
