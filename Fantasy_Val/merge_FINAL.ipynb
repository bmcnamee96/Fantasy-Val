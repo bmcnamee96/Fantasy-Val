{
 "cells": [
  {
   "cell_type": "code",
   "execution_count": 1,
   "id": "aecbf57d",
   "metadata": {},
   "outputs": [],
   "source": [
    "# import dependencies\n",
    "from bs4 import BeautifulSoup\n",
    "import requests\n",
    "import re\n",
    "import timeit\n",
    "import pandas as pd"
   ]
  },
  {
   "cell_type": "markdown",
   "id": "01766bbb",
   "metadata": {},
   "source": [
    "# Import The Data"
   ]
  },
  {
   "cell_type": "markdown",
   "id": "9035e2f2",
   "metadata": {},
   "source": [
    "### Links"
   ]
  },
  {
   "cell_type": "code",
   "execution_count": 2,
   "id": "145752e0",
   "metadata": {},
   "outputs": [
    {
     "name": "stdout",
     "output_type": "stream",
     "text": [
      "Links read from file perf_list.txt\n",
      "Links read from file over_list.txt\n"
     ]
    }
   ],
   "source": [
    "# Function to read and print links from the file\n",
    "def read_links(file_path):\n",
    "    with open(file_path, 'r') as file:\n",
    "        links = file.readlines()\n",
    "        links = [link.strip() for link in links]\n",
    "    return links\n",
    "\n",
    "file_path = 'perf_list.txt'\n",
    "# Access the links from the file\n",
    "perf_list = read_links(file_path)\n",
    "print(f\"Links read from file {file_path}\")\n",
    "\n",
    "file_path = 'over_list.txt'\n",
    "# Access the links from the file\n",
    "over_list = read_links(file_path)\n",
    "print(f\"Links read from file {file_path}\")"
   ]
  },
  {
   "cell_type": "markdown",
   "id": "8e08b25b",
   "metadata": {},
   "source": [
    "### Names"
   ]
  },
  {
   "cell_type": "code",
   "execution_count": 3,
   "id": "860dc982",
   "metadata": {},
   "outputs": [
    {
     "name": "stdout",
     "output_type": "stream",
     "text": [
      "name_map.csv uploaded\n"
     ]
    },
    {
     "data": {
      "text/html": [
       "<div>\n",
       "<style scoped>\n",
       "    .dataframe tbody tr th:only-of-type {\n",
       "        vertical-align: middle;\n",
       "    }\n",
       "\n",
       "    .dataframe tbody tr th {\n",
       "        vertical-align: top;\n",
       "    }\n",
       "\n",
       "    .dataframe thead th {\n",
       "        text-align: right;\n",
       "    }\n",
       "</style>\n",
       "<table border=\"1\" class=\"dataframe\">\n",
       "  <thead>\n",
       "    <tr style=\"text-align: right;\">\n",
       "      <th></th>\n",
       "      <th>game_id</th>\n",
       "      <th>player_name</th>\n",
       "      <th>agent</th>\n",
       "      <th>team_abrev</th>\n",
       "      <th>map</th>\n",
       "    </tr>\n",
       "  </thead>\n",
       "  <tbody>\n",
       "    <tr>\n",
       "      <th>0</th>\n",
       "      <td>0</td>\n",
       "      <td>mazin</td>\n",
       "      <td>Omen</td>\n",
       "      <td>MIBR</td>\n",
       "      <td>Ascent</td>\n",
       "    </tr>\n",
       "    <tr>\n",
       "      <th>1</th>\n",
       "      <td>0</td>\n",
       "      <td>artzin</td>\n",
       "      <td>Yoru</td>\n",
       "      <td>MIBR</td>\n",
       "      <td>Ascent</td>\n",
       "    </tr>\n",
       "    <tr>\n",
       "      <th>2</th>\n",
       "      <td>0</td>\n",
       "      <td>ShahZaM</td>\n",
       "      <td>Sova</td>\n",
       "      <td>MIBR</td>\n",
       "      <td>Ascent</td>\n",
       "    </tr>\n",
       "    <tr>\n",
       "      <th>3</th>\n",
       "      <td>0</td>\n",
       "      <td>liazzi</td>\n",
       "      <td>Killjoy</td>\n",
       "      <td>MIBR</td>\n",
       "      <td>Ascent</td>\n",
       "    </tr>\n",
       "    <tr>\n",
       "      <th>4</th>\n",
       "      <td>0</td>\n",
       "      <td>Pa1nt</td>\n",
       "      <td>Iso</td>\n",
       "      <td>MIBR</td>\n",
       "      <td>Ascent</td>\n",
       "    </tr>\n",
       "  </tbody>\n",
       "</table>\n",
       "</div>"
      ],
      "text/plain": [
       "   game_id player_name    agent team_abrev     map\n",
       "0        0      mazin      Omen       MIBR  Ascent\n",
       "1        0     artzin      Yoru       MIBR  Ascent\n",
       "2        0    ShahZaM      Sova       MIBR  Ascent\n",
       "3        0     liazzi   Killjoy       MIBR  Ascent\n",
       "4        0      Pa1nt       Iso       MIBR  Ascent"
      ]
     },
     "execution_count": 3,
     "metadata": {},
     "output_type": "execute_result"
    }
   ],
   "source": [
    "# Load the CSV file into a DataFrame\n",
    "file_path = 'name_map.csv'\n",
    "names_df = pd.read_csv(file_path)\n",
    "print(f'{file_path} uploaded')\n",
    "names_df.head(5)"
   ]
  },
  {
   "cell_type": "markdown",
   "id": "27b87203",
   "metadata": {},
   "source": [
    "### Overview"
   ]
  },
  {
   "cell_type": "code",
   "execution_count": 4,
   "id": "6769e255",
   "metadata": {},
   "outputs": [
    {
     "data": {
      "text/html": [
       "<div>\n",
       "<style scoped>\n",
       "    .dataframe tbody tr th:only-of-type {\n",
       "        vertical-align: middle;\n",
       "    }\n",
       "\n",
       "    .dataframe tbody tr th {\n",
       "        vertical-align: top;\n",
       "    }\n",
       "\n",
       "    .dataframe thead th {\n",
       "        text-align: right;\n",
       "    }\n",
       "</style>\n",
       "<table border=\"1\" class=\"dataframe\">\n",
       "  <thead>\n",
       "    <tr style=\"text-align: right;\">\n",
       "      <th></th>\n",
       "      <th>game_id</th>\n",
       "      <th>player_name</th>\n",
       "      <th>kills</th>\n",
       "      <th>deaths</th>\n",
       "      <th>assists</th>\n",
       "      <th>adr</th>\n",
       "      <th>fk</th>\n",
       "      <th>fd</th>\n",
       "    </tr>\n",
       "  </thead>\n",
       "  <tbody>\n",
       "    <tr>\n",
       "      <th>0</th>\n",
       "      <td>0</td>\n",
       "      <td>mazin</td>\n",
       "      <td>20.0</td>\n",
       "      <td>15.0</td>\n",
       "      <td>10.0</td>\n",
       "      <td>161.0</td>\n",
       "      <td>3.0</td>\n",
       "      <td>1.0</td>\n",
       "    </tr>\n",
       "    <tr>\n",
       "      <th>1</th>\n",
       "      <td>0</td>\n",
       "      <td>artzin</td>\n",
       "      <td>18.0</td>\n",
       "      <td>15.0</td>\n",
       "      <td>9.0</td>\n",
       "      <td>139.0</td>\n",
       "      <td>7.0</td>\n",
       "      <td>0.0</td>\n",
       "    </tr>\n",
       "    <tr>\n",
       "      <th>2</th>\n",
       "      <td>0</td>\n",
       "      <td>ShahZaM</td>\n",
       "      <td>12.0</td>\n",
       "      <td>14.0</td>\n",
       "      <td>9.0</td>\n",
       "      <td>122.0</td>\n",
       "      <td>2.0</td>\n",
       "      <td>1.0</td>\n",
       "    </tr>\n",
       "    <tr>\n",
       "      <th>3</th>\n",
       "      <td>0</td>\n",
       "      <td>liazzi</td>\n",
       "      <td>13.0</td>\n",
       "      <td>14.0</td>\n",
       "      <td>5.0</td>\n",
       "      <td>126.0</td>\n",
       "      <td>0.0</td>\n",
       "      <td>2.0</td>\n",
       "    </tr>\n",
       "    <tr>\n",
       "      <th>4</th>\n",
       "      <td>0</td>\n",
       "      <td>Pa1nt</td>\n",
       "      <td>11.0</td>\n",
       "      <td>17.0</td>\n",
       "      <td>6.0</td>\n",
       "      <td>98.0</td>\n",
       "      <td>2.0</td>\n",
       "      <td>4.0</td>\n",
       "    </tr>\n",
       "  </tbody>\n",
       "</table>\n",
       "</div>"
      ],
      "text/plain": [
       "   game_id player_name  kills  deaths  assists    adr   fk   fd\n",
       "0        0       mazin   20.0    15.0     10.0  161.0  3.0  1.0\n",
       "1        0      artzin   18.0    15.0      9.0  139.0  7.0  0.0\n",
       "2        0     ShahZaM   12.0    14.0      9.0  122.0  2.0  1.0\n",
       "3        0      liazzi   13.0    14.0      5.0  126.0  0.0  2.0\n",
       "4        0       Pa1nt   11.0    17.0      6.0   98.0  2.0  4.0"
      ]
     },
     "execution_count": 4,
     "metadata": {},
     "output_type": "execute_result"
    }
   ],
   "source": [
    "file_path = 'over_df.csv'\n",
    "over_df = pd.read_csv(file_path)\n",
    "over_df.head(5)"
   ]
  },
  {
   "cell_type": "markdown",
   "id": "9f4c0810",
   "metadata": {},
   "source": [
    "### Performance"
   ]
  },
  {
   "cell_type": "code",
   "execution_count": 5,
   "id": "d1043f03",
   "metadata": {},
   "outputs": [
    {
     "data": {
      "text/html": [
       "<div>\n",
       "<style scoped>\n",
       "    .dataframe tbody tr th:only-of-type {\n",
       "        vertical-align: middle;\n",
       "    }\n",
       "\n",
       "    .dataframe tbody tr th {\n",
       "        vertical-align: top;\n",
       "    }\n",
       "\n",
       "    .dataframe thead th {\n",
       "        text-align: right;\n",
       "    }\n",
       "</style>\n",
       "<table border=\"1\" class=\"dataframe\">\n",
       "  <thead>\n",
       "    <tr style=\"text-align: right;\">\n",
       "      <th></th>\n",
       "      <th>game_id</th>\n",
       "      <th>player_name</th>\n",
       "      <th>clutches</th>\n",
       "      <th>aces</th>\n",
       "    </tr>\n",
       "  </thead>\n",
       "  <tbody>\n",
       "    <tr>\n",
       "      <th>0</th>\n",
       "      <td>0</td>\n",
       "      <td>ShahZaM</td>\n",
       "      <td>0</td>\n",
       "      <td>0</td>\n",
       "    </tr>\n",
       "    <tr>\n",
       "      <th>1</th>\n",
       "      <td>0</td>\n",
       "      <td>liazzi</td>\n",
       "      <td>0</td>\n",
       "      <td>0</td>\n",
       "    </tr>\n",
       "    <tr>\n",
       "      <th>2</th>\n",
       "      <td>0</td>\n",
       "      <td>artzin</td>\n",
       "      <td>0</td>\n",
       "      <td>0</td>\n",
       "    </tr>\n",
       "    <tr>\n",
       "      <th>3</th>\n",
       "      <td>0</td>\n",
       "      <td>mazin</td>\n",
       "      <td>1</td>\n",
       "      <td>0</td>\n",
       "    </tr>\n",
       "    <tr>\n",
       "      <th>4</th>\n",
       "      <td>0</td>\n",
       "      <td>Pa1nt</td>\n",
       "      <td>0</td>\n",
       "      <td>0</td>\n",
       "    </tr>\n",
       "  </tbody>\n",
       "</table>\n",
       "</div>"
      ],
      "text/plain": [
       "   game_id player_name  clutches  aces\n",
       "0        0     ShahZaM         0     0\n",
       "1        0      liazzi         0     0\n",
       "2        0      artzin         0     0\n",
       "3        0       mazin         1     0\n",
       "4        0       Pa1nt         0     0"
      ]
     },
     "execution_count": 5,
     "metadata": {},
     "output_type": "execute_result"
    }
   ],
   "source": [
    "file_path = 'perf_df.csv'\n",
    "perf_df = pd.read_csv(file_path)\n",
    "perf_df.head(5)"
   ]
  },
  {
   "cell_type": "markdown",
   "id": "c0e14480",
   "metadata": {},
   "source": [
    "# Merge DFS"
   ]
  },
  {
   "cell_type": "markdown",
   "id": "21629f04",
   "metadata": {},
   "source": [
    "### Merge names_df with over_df"
   ]
  },
  {
   "cell_type": "code",
   "execution_count": 6,
   "id": "91f5c6e0",
   "metadata": {},
   "outputs": [],
   "source": [
    "# Get the length of comb_perf\n",
    "len_perf = len(perf_df)\n",
    "\n",
    "# Select only the rows in df_test that are within the range of length_comb_perf\n",
    "over_df = over_df.iloc[:len_perf]\n",
    "# Select only the rows in df_test that are within the range of length_comb_perf\n",
    "names_df = names_df.iloc[:len_perf]"
   ]
  },
  {
   "cell_type": "code",
   "execution_count": 7,
   "id": "20856544",
   "metadata": {},
   "outputs": [],
   "source": [
    "# Ensure data types match\n",
    "names_df.loc[:, 'game_id'] = names_df['game_id'].astype(int)\n",
    "over_df.loc[:, 'game_id'] = over_df['game_id'].astype(int)\n",
    "\n",
    "# Ensure there are no extra spaces in player_name\n",
    "names_df.loc[:, 'player_name'] = names_df['player_name'].str.strip()\n",
    "over_df.loc[:, 'player_name'] = over_df['player_name'].str.strip()\n",
    "\n",
    "# Perform the merge\n",
    "names_over_merge = pd.merge(names_df, over_df, on=['game_id', 'player_name'], how='left')"
   ]
  },
  {
   "cell_type": "code",
   "execution_count": 8,
   "id": "fe37f09d",
   "metadata": {},
   "outputs": [],
   "source": [
    "# Perform the merge\n",
    "combined_all = pd.merge(names_over_merge, perf_df, on=['game_id', 'player_name'], how='left')"
   ]
  },
  {
   "cell_type": "code",
   "execution_count": 9,
   "id": "2f3863b7",
   "metadata": {},
   "outputs": [],
   "source": [
    "# Save DataFrame to CSV file\n",
    "combined_all.to_csv('database.csv', index=False)"
   ]
  }
 ],
 "metadata": {
  "kernelspec": {
   "display_name": "Python 3 (ipykernel)",
   "language": "python",
   "name": "python3"
  },
  "language_info": {
   "codemirror_mode": {
    "name": "ipython",
    "version": 3
   },
   "file_extension": ".py",
   "mimetype": "text/x-python",
   "name": "python",
   "nbconvert_exporter": "python",
   "pygments_lexer": "ipython3",
   "version": "3.9.13"
  }
 },
 "nbformat": 4,
 "nbformat_minor": 5
}
